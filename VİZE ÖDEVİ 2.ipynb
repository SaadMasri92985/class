{
 "cells": [
  {
   "cell_type": "code",
   "execution_count": 225,
   "metadata": {},
   "outputs": [
    {
     "name": "stdout",
     "output_type": "stream",
     "text": [
      "<class 'pandas.core.frame.DataFrame'>\n",
      "RangeIndex: 920 entries, 0 to 919\n",
      "Data columns (total 12 columns):\n",
      " #   Column    Non-Null Count  Dtype  \n",
      "---  ------    --------------  -----  \n",
      " 0   id        920 non-null    int64  \n",
      " 1   age       920 non-null    int64  \n",
      " 2   sex       920 non-null    object \n",
      " 3   cp        920 non-null    object \n",
      " 4   trestbps  861 non-null    float64\n",
      " 5   chol      890 non-null    float64\n",
      " 6   fbs       830 non-null    object \n",
      " 7   restecg   918 non-null    object \n",
      " 8   thalch    865 non-null    float64\n",
      " 9   exang     865 non-null    object \n",
      " 10  oldpeak   858 non-null    float64\n",
      " 11  target    920 non-null    int64  \n",
      "dtypes: float64(4), int64(3), object(5)\n",
      "memory usage: 86.4+ KB\n",
      "None\n",
      "\n",
      "id            int64\n",
      "age           int64\n",
      "sex          object\n",
      "cp           object\n",
      "trestbps    float64\n",
      "chol        float64\n",
      "fbs          object\n",
      "restecg      object\n",
      "thalch      float64\n",
      "exang        object\n",
      "oldpeak     float64\n",
      "target        int64\n",
      "dtype: object\n",
      "\n",
      "   id  age     sex               cp  trestbps   chol    fbs         restecg  \\\n",
      "0   1   63    Male   typical angina     145.0  233.0   True  lv hypertrophy   \n",
      "1   2   67    Male     asymptomatic     160.0  286.0  False  lv hypertrophy   \n",
      "2   3   67    Male     asymptomatic     120.0  229.0  False  lv hypertrophy   \n",
      "3   4   37    Male      non-anginal     130.0  250.0  False          normal   \n",
      "4   5   41  Female  atypical angina     130.0  204.0  False  lv hypertrophy   \n",
      "\n",
      "   thalch  exang  oldpeak  target  \n",
      "0   150.0  False      2.3       0  \n",
      "1   108.0   True      1.5       2  \n",
      "2   129.0   True      2.6       1  \n",
      "3   187.0  False      3.5       0  \n",
      "4   172.0  False      1.4       0  \n"
     ]
    }
   ],
   "source": [
    "#CLASSIFICATION\n",
    "import pandas as pd \n",
    "import numpy as np\n",
    "import matplotlib.pyplot as plt\n",
    "from sklearn.neighbors import KNeighborsClassifier\n",
    "from sklearn.svm import SVC\n",
    "from sklearn.tree import DecisionTreeClassifier\n",
    "from sklearn.ensemble import RandomForestClassifier\n",
    "from sklearn.model_selection import train_test_split\n",
    "\n",
    "#dataset okuma ve Veri hazırlık\n",
    "df=pd.read_csv(\"heart111.csv\",sep=\";\")\n",
    "print(df.info())\n",
    "print(\"\")\n",
    "print(df.dtypes) \n",
    "print(\"\")\n",
    "print(df.head())\n"
   ]
  },
  {
   "cell_type": "code",
   "execution_count": 226,
   "metadata": {},
   "outputs": [
    {
     "name": "stdout",
     "output_type": "stream",
     "text": [
      "['typical angina' 'asymptomatic' 'non-anginal' 'atypical angina']\n",
      "['lv hypertrophy' 'normal' 'st-t abnormality' nan]\n",
      "['Male' 'Female']\n",
      "[True False nan]\n",
      "[False True nan]\n",
      "\n",
      "age          0\n",
      "sex          0\n",
      "cp           0\n",
      "trestbps    59\n",
      "chol        30\n",
      "fbs         90\n",
      "restecg      2\n",
      "thalch      55\n",
      "exang       55\n",
      "oldpeak     62\n",
      "target       0\n",
      "dtype: int64\n"
     ]
    }
   ],
   "source": [
    "df.drop(\"id\",inplace=True,axis=1) \n",
    "\n",
    "print(df.cp.unique()) \n",
    "print(df.restecg.unique())\n",
    "print(df.sex.unique())\n",
    "print(df.fbs.unique())\n",
    "print(df.exang.unique())\n",
    "\n",
    "print(\"\")\n",
    "\n",
    "print(df.isnull().sum()) "
   ]
  },
  {
   "cell_type": "code",
   "execution_count": 227,
   "metadata": {},
   "outputs": [],
   "source": [
    "df[\"trestbps\"].fillna((df[\"trestbps\"].mean()),inplace=True)\n",
    "df[\"chol\"].fillna((df[\"chol\"].mean()),inplace=True)\n",
    "df[\"restecg\"].fillna(\"normal\",inplace=True)\n",
    "df[\"thalch\"].fillna((df[\"thalch\"].mean()),inplace=True)\n"
   ]
  },
  {
   "cell_type": "code",
   "execution_count": 228,
   "metadata": {},
   "outputs": [
    {
     "name": "stdout",
     "output_type": "stream",
     "text": [
      "0\n",
      "     age     sex               cp  trestbps   chol    fbs           restecg  \\\n",
      "0     63    Male   typical angina     145.0  233.0   True    lv hypertrophy   \n",
      "1     67    Male     asymptomatic     160.0  286.0  False    lv hypertrophy   \n",
      "2     67    Male     asymptomatic     120.0  229.0  False    lv hypertrophy   \n",
      "3     37    Male      non-anginal     130.0  250.0  False            normal   \n",
      "4     41  Female  atypical angina     130.0  204.0  False    lv hypertrophy   \n",
      "..   ...     ...              ...       ...    ...    ...               ...   \n",
      "913   62    Male     asymptomatic     158.0  170.0  False  st-t abnormality   \n",
      "914   46    Male     asymptomatic     134.0  310.0  False            normal   \n",
      "915   54  Female     asymptomatic     127.0  333.0   True  st-t abnormality   \n",
      "917   55    Male     asymptomatic     122.0  223.0   True  st-t abnormality   \n",
      "919   62    Male  atypical angina     120.0  254.0  False    lv hypertrophy   \n",
      "\n",
      "     thalch  exang  oldpeak  target  \n",
      "0     150.0  False      2.3       0  \n",
      "1     108.0   True      1.5       2  \n",
      "2     129.0   True      2.6       1  \n",
      "3     187.0  False      3.5       0  \n",
      "4     172.0  False      1.4       0  \n",
      "..      ...    ...      ...     ...  \n",
      "913   138.0   True      0.0       1  \n",
      "914   126.0  False      0.0       2  \n",
      "915   154.0  False      0.0       1  \n",
      "917   100.0  False      0.0       2  \n",
      "919    93.0   True      0.0       1  \n",
      "\n",
      "[771 rows x 11 columns]\n"
     ]
    }
   ],
   "source": [
    "df.dropna(inplace=True)\n",
    "print(df.isnull().sum().sum())\n",
    "prınt(\"\")\n",
    "print(df)"
   ]
  },
  {
   "cell_type": "code",
   "execution_count": 229,
   "metadata": {},
   "outputs": [
    {
     "name": "stdout",
     "output_type": "stream",
     "text": [
      "age           int64\n",
      "sex          object\n",
      "cp           object\n",
      "trestbps    float64\n",
      "chol        float64\n",
      "fbs          object\n",
      "restecg      object\n",
      "thalch      float64\n",
      "exang        object\n",
      "oldpeak     float64\n",
      "target        int64\n",
      "dtype: object\n"
     ]
    }
   ],
   "source": [
    "print(df.dtypes) "
   ]
  },
  {
   "cell_type": "code",
   "execution_count": 230,
   "metadata": {},
   "outputs": [],
   "source": [
    "df.sex=[1 if i ==\"Male\" else 0 for i in df.sex]\n",
    "df=pd.get_dummies(df,columns=[\"fbs\"])\n",
    "df=pd.get_dummies(df,columns=[\"exang\"])\n",
    "df=pd.get_dummies(df,columns=[\"cp\"])\n",
    "df=pd.get_dummies(df,columns=[\"restecg\"])"
   ]
  },
  {
   "cell_type": "code",
   "execution_count": 231,
   "metadata": {},
   "outputs": [
    {
     "name": "stdout",
     "output_type": "stream",
     "text": [
      "<class 'pandas.core.frame.DataFrame'>\n",
      "Int64Index: 771 entries, 0 to 919\n",
      "Data columns (total 18 columns):\n",
      " #   Column                    Non-Null Count  Dtype  \n",
      "---  ------                    --------------  -----  \n",
      " 0   age                       771 non-null    int64  \n",
      " 1   sex                       771 non-null    int64  \n",
      " 2   trestbps                  771 non-null    float64\n",
      " 3   chol                      771 non-null    float64\n",
      " 4   thalch                    771 non-null    float64\n",
      " 5   oldpeak                   771 non-null    float64\n",
      " 6   target                    771 non-null    int64  \n",
      " 7   fbs_False                 771 non-null    uint8  \n",
      " 8   fbs_True                  771 non-null    uint8  \n",
      " 9   exang_False               771 non-null    uint8  \n",
      " 10  exang_True                771 non-null    uint8  \n",
      " 11  cp_asymptomatic           771 non-null    uint8  \n",
      " 12  cp_atypical angina        771 non-null    uint8  \n",
      " 13  cp_non-anginal            771 non-null    uint8  \n",
      " 14  cp_typical angina         771 non-null    uint8  \n",
      " 15  restecg_lv hypertrophy    771 non-null    uint8  \n",
      " 16  restecg_normal            771 non-null    uint8  \n",
      " 17  restecg_st-t abnormality  771 non-null    uint8  \n",
      "dtypes: float64(4), int64(3), uint8(11)\n",
      "memory usage: 56.5 KB\n",
      "None\n",
      "   age  sex  trestbps   chol  thalch  oldpeak  target  fbs_False  fbs_True  \\\n",
      "0   63    1     145.0  233.0   150.0      2.3       0          0         1   \n",
      "1   67    1     160.0  286.0   108.0      1.5       2          1         0   \n",
      "2   67    1     120.0  229.0   129.0      2.6       1          1         0   \n",
      "3   37    1     130.0  250.0   187.0      3.5       0          1         0   \n",
      "4   41    0     130.0  204.0   172.0      1.4       0          1         0   \n",
      "\n",
      "   exang_False  exang_True  cp_asymptomatic  cp_atypical angina  \\\n",
      "0            1           0                0                   0   \n",
      "1            0           1                1                   0   \n",
      "2            0           1                1                   0   \n",
      "3            1           0                0                   0   \n",
      "4            1           0                0                   1   \n",
      "\n",
      "   cp_non-anginal  cp_typical angina  restecg_lv hypertrophy  restecg_normal  \\\n",
      "0               0                  1                       1               0   \n",
      "1               0                  0                       1               0   \n",
      "2               0                  0                       1               0   \n",
      "3               1                  0                       0               1   \n",
      "4               0                  0                       1               0   \n",
      "\n",
      "   restecg_st-t abnormality  \n",
      "0                         0  \n",
      "1                         0  \n",
      "2                         0  \n",
      "3                         0  \n",
      "4                         0  \n",
      "\n"
     ]
    }
   ],
   "source": [
    "print(df.info())\n",
    "print(\"\")\n",
    "print(df.head())"
   ]
  },
  {
   "cell_type": "code",
   "execution_count": 232,
   "metadata": {},
   "outputs": [],
   "source": [
    "donusum = {\"age\": int, \n",
    "           \"sex\": int,\n",
    "           \"trestbps\":int,\n",
    "           \"chol\":int,\n",
    "           \"fbs_False\":int,\n",
    "           \"fbs_True\":int,\n",
    "           \"thalch\":int,\n",
    "           \"oldpeak\":int,\n",
    "          \"exang_False\":int,\n",
    "           \"exang_True\":int,\n",
    "           \"target\":int,\n",
    "           \"cp_asymptomatic\":int,\n",
    "           \"cp_atypical angina\":int,\n",
    "           \"cp_non-anginal\":int,\n",
    "           \"cp_typical angina\":int,\n",
    "           \"restecg_lv hypertrophy\":int,\n",
    "           \"restecg_normal\":int,\n",
    "           \"restecg_st-t abnormality\":int} \n",
    "df=df.astype(donusum)"
   ]
  },
  {
   "cell_type": "code",
   "execution_count": 233,
   "metadata": {},
   "outputs": [
    {
     "name": "stdout",
     "output_type": "stream",
     "text": [
      "0      False\n",
      "1      False\n",
      "2      False\n",
      "3      False\n",
      "4      False\n",
      "       ...  \n",
      "766    False\n",
      "767    False\n",
      "768    False\n",
      "769    False\n",
      "770    False\n",
      "Length: 771, dtype: bool\n"
     ]
    }
   ],
   "source": [
    "df.reset_index(inplace=True,drop=True)#restleme\n",
    "\n",
    "print(df.duplicated())"
   ]
  },
  {
   "cell_type": "code",
   "execution_count": 250,
   "metadata": {},
   "outputs": [],
   "source": [
    "y=df.target.values\n",
    "x_data=df.drop([\"target\"],axis=1)\n",
    "x=(x_data-np.min(x_data))/(np.max(x_data)-np.min(x_data))\n",
    "#x=x_data\n",
    "\n",
    "x_train, x_test,y_train, y_test=train_test_split(x,y,test_size=0.3,random_state=42)\n"
   ]
  },
  {
   "cell_type": "code",
   "execution_count": 251,
   "metadata": {},
   "outputs": [
    {
     "name": "stdout",
     "output_type": "stream",
     "text": [
      "knn score: 0.5905172413793104\n"
     ]
    },
    {
     "data": {
      "image/png": "[encoded data removed]",
      "text/plain": [
       "<Figure size 432x288 with 1 Axes>"
      ]
     },
     "metadata": {
      "needs_background": "light"
     },
     "output_type": "display_data"
    },
    {
     "name": "stdout",
     "output_type": "stream",
     "text": [
      "svm score: 0.5818965517241379\n",
      "dt score: 0.5172413793103449\n",
      "rf score: 0.6120689655172413\n"
     ]
    }
   ],
   "source": [
    "#Knn\n",
    "\n",
    "knn=KNeighborsClassifier(n_neighbors=6)\n",
    "knn.fit(x_train,y_train.ravel())\n",
    "knn_pred=knn.predict(x_test)\n",
    "print(\"knn score:\",knn.score(x_test,y_test)) \n",
    "\n",
    "score_list=[]\n",
    "for i in range(1,15):\n",
    "    knn2=KNeighborsClassifier(n_neighbors=i)\n",
    "    knn2.fit(x_train,y_train.ravel())\n",
    "    score_list.append(knn2.score(x_test,y_test))\n",
    "    \n",
    "plt.plot(range(1,15),score_list)\n",
    "plt.xlabel(\"k value\")\n",
    "plt.ylabel(\"score\")\n",
    "plt.show()\n",
    "\n",
    "\n",
    "#SVM\n",
    "\n",
    "svm=SVC(random_state=1)\n",
    "svm.fit(x_train,y_train.ravel())\n",
    "svm_pred=svm.predict(x_test)\n",
    "print(\"svm score:\",svm.score(x_test,y_test))\n",
    "\n",
    "\n",
    "#Decision tree\n",
    "\n",
    "dt1=DecisionTreeClassifier(random_state=1)\n",
    "dt1.fit(x_train,y_train)\n",
    "dt1_pred=dt1.predict(x_test)\n",
    "print(\"dt score:\",dt1.score(x_test,y_test))\n",
    "\n",
    "\n",
    "#Random forest\n",
    "\n",
    "rf1=RandomForestClassifier(n_estimators=200, random_state=1)\n",
    "rf1.fit(x_train,y_train.ravel())\n",
    "rf1_pred=rf1.predict(x_test)\n",
    "print(\"rf score:\",rf1.score(x_test,y_test))\n"
   ]
  },
  {
   "cell_type": "code",
   "execution_count": 252,
   "metadata": {},
   "outputs": [
    {
     "name": "stdout",
     "output_type": "stream",
     "text": [
      "knn: accuracy score: 0.5905172413793104 confusion matrix: [[98 14  2  1  0]\n",
      " [21 31  1  3  0]\n",
      " [ 9 13  4  1  0]\n",
      " [ 7  9  5  4  0]\n",
      " [ 1  5  1  2  0]] matthews corrcoef: 0.3502252634658884\n",
      "\n",
      "svm: accuracy score: 0.5818965517241379 confusion matrix: [[103  12   0   0   0]\n",
      " [ 24  32   0   0   0]\n",
      " [  8  19   0   0   0]\n",
      " [  9  16   0   0   0]\n",
      " [  3   6   0   0   0]] matthews corrcoef: 0.3217726098458342\n",
      "\n",
      "dt1: accuracy score: 0.5172413793103449 confusion matrix: [[84 16  6  7  2]\n",
      " [13 24 11  6  2]\n",
      " [ 6  8  6  7  0]\n",
      " [ 7  5  4  5  4]\n",
      " [ 2  3  1  2  1]] matthews corrcoef: 0.28417059503394404\n",
      "\n",
      "rf1: accuracy score: 0.6120689655172413 confusion matrix: [[99 13  1  2  0]\n",
      " [20 29  3  4  0]\n",
      " [ 3 13  6  4  1]\n",
      " [ 6  6  4  8  1]\n",
      " [ 1  4  2  2  0]] matthews corrcoef: 0.39631150111144287\n"
     ]
    }
   ],
   "source": [
    "#classification degerlendirme\n",
    "from sklearn.metrics import classification_report,accuracy_score,confusion_matrix,precision_score,matthews_corrcoef\n",
    "\n",
    "\n",
    "#accuracy score,matthews corrcoef and confusion matrix\n",
    "print(\"knn:\",\"accuracy score:\",accuracy_score(y_test,knn_pred),\"confusion matrix:\",confusion_matrix(y_test,knn_pred),\"matthews corrcoef:\",matthews_corrcoef(y_test,knn_pred))\n",
    "print(\"\")\n",
    "print(\"svm:\",\"accuracy score:\",accuracy_score(y_test,svm_pred),\"confusion matrix:\",confusion_matrix(y_test,svm_pred),\"matthews corrcoef:\",matthews_corrcoef(y_test,svm_pred))\n",
    "print(\"\")\n",
    "print(\"dt1:\",\"accuracy score:\",accuracy_score(y_test,dt1_pred),\"confusion matrix:\",confusion_matrix(y_test,dt1_pred),\"matthews corrcoef:\",matthews_corrcoef(y_test,dt1_pred))\n",
    "print(\"\")\n",
    "print(\"rf1:\",\"accuracy score:\",accuracy_score(y_test,rf1_pred),\"confusion matrix:\",confusion_matrix(y_test,rf1_pred),\"matthews corrcoef:\",matthews_corrcoef(y_test,rf1_pred))"
   ]
  },
  {
   "cell_type": "code",
   "execution_count": null,
   "metadata": {},
   "outputs": [],
   "source": []
  }
 ],
 "metadata": {
  "kernelspec": {
   "display_name": "Python 3",
   "language": "python",
   "name": "python3"
  },
  "language_info": {
   "codemirror_mode": {
    "name": "ipython",
    "version": 3
   },
   "file_extension": ".py",
   "mimetype": "text/x-python",
   "name": "python",
   "nbconvert_exporter": "python",
   "pygments_lexer": "ipython3",
   "version": "3.8.3"
  }
 },
 "nbformat": 4,
 "nbformat_minor": 4
}
